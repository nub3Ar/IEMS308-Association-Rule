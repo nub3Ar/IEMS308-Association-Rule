{
 "cells": [
  {
   "cell_type": "code",
   "execution_count": 2,
   "metadata": {},
   "outputs": [],
   "source": [
    "import pandas as pd\n",
    "import numpy as np"
   ]
  },
  {
   "cell_type": "code",
   "execution_count": 3,
   "metadata": {},
   "outputs": [],
   "source": [
    "rules = pd.read_csv('rules.csv')"
   ]
  },
  {
   "cell_type": "code",
   "execution_count": 5,
   "metadata": {},
   "outputs": [
    {
     "data": {
      "text/html": [
       "<div>\n",
       "<style scoped>\n",
       "    .dataframe tbody tr th:only-of-type {\n",
       "        vertical-align: middle;\n",
       "    }\n",
       "\n",
       "    .dataframe tbody tr th {\n",
       "        vertical-align: top;\n",
       "    }\n",
       "\n",
       "    .dataframe thead th {\n",
       "        text-align: right;\n",
       "    }\n",
       "</style>\n",
       "<table border=\"1\" class=\"dataframe\">\n",
       "  <thead>\n",
       "    <tr style=\"text-align: right;\">\n",
       "      <th></th>\n",
       "      <th>Unnamed: 0</th>\n",
       "      <th>antecedent support</th>\n",
       "      <th>consequent support</th>\n",
       "      <th>support</th>\n",
       "      <th>confidence</th>\n",
       "      <th>lift</th>\n",
       "      <th>leverage</th>\n",
       "      <th>conviction</th>\n",
       "    </tr>\n",
       "  </thead>\n",
       "  <tbody>\n",
       "    <tr>\n",
       "      <th>count</th>\n",
       "      <td>150.000000</td>\n",
       "      <td>150.000000</td>\n",
       "      <td>150.000000</td>\n",
       "      <td>150.000000</td>\n",
       "      <td>150.000000</td>\n",
       "      <td>150.000000</td>\n",
       "      <td>150.000000</td>\n",
       "      <td>150.000000</td>\n",
       "    </tr>\n",
       "    <tr>\n",
       "      <th>mean</th>\n",
       "      <td>74.500000</td>\n",
       "      <td>0.027749</td>\n",
       "      <td>0.027749</td>\n",
       "      <td>0.002013</td>\n",
       "      <td>0.153682</td>\n",
       "      <td>23.106012</td>\n",
       "      <td>0.001358</td>\n",
       "      <td>1.290721</td>\n",
       "    </tr>\n",
       "    <tr>\n",
       "      <th>std</th>\n",
       "      <td>43.445368</td>\n",
       "      <td>0.021231</td>\n",
       "      <td>0.021231</td>\n",
       "      <td>0.001064</td>\n",
       "      <td>0.181042</td>\n",
       "      <td>68.229361</td>\n",
       "      <td>0.000978</td>\n",
       "      <td>0.726136</td>\n",
       "    </tr>\n",
       "    <tr>\n",
       "      <th>min</th>\n",
       "      <td>0.000000</td>\n",
       "      <td>0.001894</td>\n",
       "      <td>0.001894</td>\n",
       "      <td>0.001216</td>\n",
       "      <td>0.018098</td>\n",
       "      <td>1.048041</td>\n",
       "      <td>0.000060</td>\n",
       "      <td>1.001741</td>\n",
       "    </tr>\n",
       "    <tr>\n",
       "      <th>25%</th>\n",
       "      <td>37.250000</td>\n",
       "      <td>0.011295</td>\n",
       "      <td>0.011295</td>\n",
       "      <td>0.001308</td>\n",
       "      <td>0.042306</td>\n",
       "      <td>1.807371</td>\n",
       "      <td>0.000708</td>\n",
       "      <td>1.018881</td>\n",
       "    </tr>\n",
       "    <tr>\n",
       "      <th>50%</th>\n",
       "      <td>74.500000</td>\n",
       "      <td>0.020003</td>\n",
       "      <td>0.020003</td>\n",
       "      <td>0.001583</td>\n",
       "      <td>0.105149</td>\n",
       "      <td>2.943475</td>\n",
       "      <td>0.001061</td>\n",
       "      <td>1.068843</td>\n",
       "    </tr>\n",
       "    <tr>\n",
       "      <th>75%</th>\n",
       "      <td>111.750000</td>\n",
       "      <td>0.035384</td>\n",
       "      <td>0.035384</td>\n",
       "      <td>0.002121</td>\n",
       "      <td>0.158780</td>\n",
       "      <td>9.073640</td>\n",
       "      <td>0.001803</td>\n",
       "      <td>1.142649</td>\n",
       "    </tr>\n",
       "    <tr>\n",
       "      <th>max</th>\n",
       "      <td>149.000000</td>\n",
       "      <td>0.067177</td>\n",
       "      <td>0.067177</td>\n",
       "      <td>0.007068</td>\n",
       "      <td>0.821138</td>\n",
       "      <td>365.278134</td>\n",
       "      <td>0.004681</td>\n",
       "      <td>5.412602</td>\n",
       "    </tr>\n",
       "  </tbody>\n",
       "</table>\n",
       "</div>"
      ],
      "text/plain": [
       "       Unnamed: 0  antecedent support  consequent support     support  \\\n",
       "count  150.000000          150.000000          150.000000  150.000000   \n",
       "mean    74.500000            0.027749            0.027749    0.002013   \n",
       "std     43.445368            0.021231            0.021231    0.001064   \n",
       "min      0.000000            0.001894            0.001894    0.001216   \n",
       "25%     37.250000            0.011295            0.011295    0.001308   \n",
       "50%     74.500000            0.020003            0.020003    0.001583   \n",
       "75%    111.750000            0.035384            0.035384    0.002121   \n",
       "max    149.000000            0.067177            0.067177    0.007068   \n",
       "\n",
       "       confidence        lift    leverage  conviction  \n",
       "count  150.000000  150.000000  150.000000  150.000000  \n",
       "mean     0.153682   23.106012    0.001358    1.290721  \n",
       "std      0.181042   68.229361    0.000978    0.726136  \n",
       "min      0.018098    1.048041    0.000060    1.001741  \n",
       "25%      0.042306    1.807371    0.000708    1.018881  \n",
       "50%      0.105149    2.943475    0.001061    1.068843  \n",
       "75%      0.158780    9.073640    0.001803    1.142649  \n",
       "max      0.821138  365.278134    0.004681    5.412602  "
      ]
     },
     "execution_count": 5,
     "metadata": {},
     "output_type": "execute_result"
    }
   ],
   "source": [
    "rules.describe()"
   ]
  },
  {
   "cell_type": "code",
   "execution_count": 42,
   "metadata": {},
   "outputs": [],
   "source": [
    "rules['support_q'] = pd.qcut(rules.support, 4, labels = [1,2,3,4])\n",
    "rules['lift_q'] = pd.qcut(rules.lift, 4, labels = [1,2,3,4])\n",
    "rules['support_lift_q'] = rules.support_q.astype('str') + rules.lift_q.astype('str')"
   ]
  },
  {
   "cell_type": "code",
   "execution_count": 46,
   "metadata": {},
   "outputs": [
    {
     "data": {
      "text/plain": [
       "count    16.000000\n",
       "mean      0.310168\n",
       "std       0.206545\n",
       "min       0.081781\n",
       "25%       0.171076\n",
       "50%       0.247678\n",
       "75%       0.421332\n",
       "max       0.821138\n",
       "Name: confidence, dtype: float64"
      ]
     },
     "execution_count": 46,
     "metadata": {},
     "output_type": "execute_result"
    }
   ],
   "source": [
    "rules[rules.support_lift_q == '44'].confidence.describe()"
   ]
  },
  {
   "cell_type": "code",
   "execution_count": 49,
   "metadata": {},
   "outputs": [
    {
     "data": {
      "text/plain": [
       "11    16\n",
       "44    16\n",
       "22    12\n",
       "43    12\n",
       "32    12\n",
       "21    10\n",
       "31    10\n",
       "24     8\n",
       "34     8\n",
       "12     8\n",
       "13     8\n",
       "23     8\n",
       "33     8\n",
       "42     6\n",
       "14     6\n",
       "41     2\n",
       "Name: support_lift_q, dtype: int64"
      ]
     },
     "execution_count": 49,
     "metadata": {},
     "output_type": "execute_result"
    }
   ],
   "source": [
    "rules.support_lift_q.value_counts()"
   ]
  },
  {
   "cell_type": "code",
   "execution_count": 44,
   "metadata": {},
   "outputs": [],
   "source": [
    "rules.to_csv('ranked_rules.csv')"
   ]
  }
 ],
 "metadata": {
  "kernelspec": {
   "display_name": "Python 3",
   "language": "python",
   "name": "python3"
  },
  "language_info": {
   "codemirror_mode": {
    "name": "ipython",
    "version": 3
   },
   "file_extension": ".py",
   "mimetype": "text/x-python",
   "name": "python",
   "nbconvert_exporter": "python",
   "pygments_lexer": "ipython3",
   "version": "3.8.5"
  }
 },
 "nbformat": 4,
 "nbformat_minor": 4
}
